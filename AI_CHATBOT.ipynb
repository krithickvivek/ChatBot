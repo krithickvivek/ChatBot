{
  "nbformat": 4,
  "nbformat_minor": 0,
  "metadata": {
    "colab": {
      "provenance": []
    },
    "kernelspec": {
      "name": "python3",
      "display_name": "Python 3"
    },
    "language_info": {
      "name": "python"
    }
  },
  "cells": [
    {
      "cell_type": "code",
      "execution_count": 28,
      "metadata": {
        "id": "uyvgkSrTozLe"
      },
      "outputs": [],
      "source": [
        "!pip install transformers sentence-transformers PyPDF2 nltk --quiet"
      ]
    },
    {
      "cell_type": "code",
      "source": [
        "import torch\n",
        "from transformers import pipeline\n",
        "from sentence_transformers import SentenceTransformer, util\n",
        "import PyPDF2\n",
        "import nltk\n",
        "from nltk.corpus import stopwords\n",
        "from nltk.tokenize import sent_tokenize, word_tokenize\n",
        "import string\n",
        "from google.colab import files"
      ],
      "metadata": {
        "id": "ZRKNS8DXpNSE"
      },
      "execution_count": 27,
      "outputs": []
    },
    {
      "cell_type": "code",
      "source": [
        "import nltk\n",
        "nltk.download('punkt')\n",
        "nltk.download('punkt_tab')\n",
        "nltk.download('stopwords')"
      ],
      "metadata": {
        "colab": {
          "base_uri": "https://localhost:8080/"
        },
        "id": "hWlq2U-BQ3IP",
        "outputId": "a9212fe0-7c5c-4278-db82-da6a4e57862f"
      },
      "execution_count": 35,
      "outputs": [
        {
          "output_type": "stream",
          "name": "stderr",
          "text": [
            "[nltk_data] Downloading package punkt to /root/nltk_data...\n",
            "[nltk_data]   Package punkt is already up-to-date!\n",
            "[nltk_data] Downloading package punkt_tab to /root/nltk_data...\n",
            "[nltk_data]   Package punkt_tab is already up-to-date!\n",
            "[nltk_data] Downloading package stopwords to /root/nltk_data...\n",
            "[nltk_data]   Package stopwords is already up-to-date!\n"
          ]
        },
        {
          "output_type": "execute_result",
          "data": {
            "text/plain": [
              "True"
            ]
          },
          "metadata": {},
          "execution_count": 35
        }
      ]
    },
    {
      "cell_type": "markdown",
      "source": [
        "# **Load Models**"
      ],
      "metadata": {
        "id": "UASkNJiapT7M"
      }
    },
    {
      "cell_type": "code",
      "source": [
        "print(\"Loading models... please wait.\")\n",
        "summarizer = pipeline(\"summarization\", model=\"facebook/bart-large-cnn\")\n",
        "embedder = SentenceTransformer('all-MiniLM-L6-v2')\n",
        "print(\"✅ Models loaded successfully!\\n\")"
      ],
      "metadata": {
        "id": "86Dzvijlp4P-",
        "colab": {
          "base_uri": "https://localhost:8080/"
        },
        "outputId": "8a974e3c-1082-4130-cef5-d18606124b68"
      },
      "execution_count": 31,
      "outputs": [
        {
          "output_type": "stream",
          "name": "stdout",
          "text": [
            "Loading models... please wait.\n"
          ]
        },
        {
          "output_type": "stream",
          "name": "stderr",
          "text": [
            "Device set to use cpu\n"
          ]
        },
        {
          "output_type": "stream",
          "name": "stdout",
          "text": [
            "✅ Models loaded successfully!\n",
            "\n"
          ]
        }
      ]
    },
    {
      "cell_type": "markdown",
      "source": [
        "# **Upload and Extract**"
      ],
      "metadata": {
        "id": "13fjNU-zp650"
      }
    },
    {
      "cell_type": "code",
      "source": [
        "print(\"Upload a document (PDF)...\")\n",
        "uploaded = files.upload()\n",
        "pdf_path = list(uploaded.keys())[0]\n",
        "\n",
        "def extract_text_from_pdf(path):\n",
        "    reader = PyPDF2.PdfReader(path)\n",
        "    text = \"\"\n",
        "    for page in reader.pages:\n",
        "        page_text = page.extract_text()\n",
        "        if page_text:\n",
        "            text += page_text + \"\\n\"\n",
        "    return text\n",
        "\n",
        "document_text = extract_text_from_pdf(pdf_path)\n",
        "print(\"\\n✅ Document uploaded and extracted successfully!\\n\")"
      ],
      "metadata": {
        "id": "w9CicGSXp6EB",
        "colab": {
          "base_uri": "https://localhost:8080/",
          "height": 146
        },
        "outputId": "50117b0a-f266-4c06-e18c-26a4ece112a8"
      },
      "execution_count": 42,
      "outputs": [
        {
          "output_type": "stream",
          "name": "stdout",
          "text": [
            "Upload a document (PDF)...\n"
          ]
        },
        {
          "output_type": "display_data",
          "data": {
            "text/plain": [
              "<IPython.core.display.HTML object>"
            ],
            "text/html": [
              "\n",
              "     <input type=\"file\" id=\"files-4e465b8d-f6be-4152-bfde-5daf06272623\" name=\"files[]\" multiple disabled\n",
              "        style=\"border:none\" />\n",
              "     <output id=\"result-4e465b8d-f6be-4152-bfde-5daf06272623\">\n",
              "      Upload widget is only available when the cell has been executed in the\n",
              "      current browser session. Please rerun this cell to enable.\n",
              "      </output>\n",
              "      <script>// Copyright 2017 Google LLC\n",
              "//\n",
              "// Licensed under the Apache License, Version 2.0 (the \"License\");\n",
              "// you may not use this file except in compliance with the License.\n",
              "// You may obtain a copy of the License at\n",
              "//\n",
              "//      http://www.apache.org/licenses/LICENSE-2.0\n",
              "//\n",
              "// Unless required by applicable law or agreed to in writing, software\n",
              "// distributed under the License is distributed on an \"AS IS\" BASIS,\n",
              "// WITHOUT WARRANTIES OR CONDITIONS OF ANY KIND, either express or implied.\n",
              "// See the License for the specific language governing permissions and\n",
              "// limitations under the License.\n",
              "\n",
              "/**\n",
              " * @fileoverview Helpers for google.colab Python module.\n",
              " */\n",
              "(function(scope) {\n",
              "function span(text, styleAttributes = {}) {\n",
              "  const element = document.createElement('span');\n",
              "  element.textContent = text;\n",
              "  for (const key of Object.keys(styleAttributes)) {\n",
              "    element.style[key] = styleAttributes[key];\n",
              "  }\n",
              "  return element;\n",
              "}\n",
              "\n",
              "// Max number of bytes which will be uploaded at a time.\n",
              "const MAX_PAYLOAD_SIZE = 100 * 1024;\n",
              "\n",
              "function _uploadFiles(inputId, outputId) {\n",
              "  const steps = uploadFilesStep(inputId, outputId);\n",
              "  const outputElement = document.getElementById(outputId);\n",
              "  // Cache steps on the outputElement to make it available for the next call\n",
              "  // to uploadFilesContinue from Python.\n",
              "  outputElement.steps = steps;\n",
              "\n",
              "  return _uploadFilesContinue(outputId);\n",
              "}\n",
              "\n",
              "// This is roughly an async generator (not supported in the browser yet),\n",
              "// where there are multiple asynchronous steps and the Python side is going\n",
              "// to poll for completion of each step.\n",
              "// This uses a Promise to block the python side on completion of each step,\n",
              "// then passes the result of the previous step as the input to the next step.\n",
              "function _uploadFilesContinue(outputId) {\n",
              "  const outputElement = document.getElementById(outputId);\n",
              "  const steps = outputElement.steps;\n",
              "\n",
              "  const next = steps.next(outputElement.lastPromiseValue);\n",
              "  return Promise.resolve(next.value.promise).then((value) => {\n",
              "    // Cache the last promise value to make it available to the next\n",
              "    // step of the generator.\n",
              "    outputElement.lastPromiseValue = value;\n",
              "    return next.value.response;\n",
              "  });\n",
              "}\n",
              "\n",
              "/**\n",
              " * Generator function which is called between each async step of the upload\n",
              " * process.\n",
              " * @param {string} inputId Element ID of the input file picker element.\n",
              " * @param {string} outputId Element ID of the output display.\n",
              " * @return {!Iterable<!Object>} Iterable of next steps.\n",
              " */\n",
              "function* uploadFilesStep(inputId, outputId) {\n",
              "  const inputElement = document.getElementById(inputId);\n",
              "  inputElement.disabled = false;\n",
              "\n",
              "  const outputElement = document.getElementById(outputId);\n",
              "  outputElement.innerHTML = '';\n",
              "\n",
              "  const pickedPromise = new Promise((resolve) => {\n",
              "    inputElement.addEventListener('change', (e) => {\n",
              "      resolve(e.target.files);\n",
              "    });\n",
              "  });\n",
              "\n",
              "  const cancel = document.createElement('button');\n",
              "  inputElement.parentElement.appendChild(cancel);\n",
              "  cancel.textContent = 'Cancel upload';\n",
              "  const cancelPromise = new Promise((resolve) => {\n",
              "    cancel.onclick = () => {\n",
              "      resolve(null);\n",
              "    };\n",
              "  });\n",
              "\n",
              "  // Wait for the user to pick the files.\n",
              "  const files = yield {\n",
              "    promise: Promise.race([pickedPromise, cancelPromise]),\n",
              "    response: {\n",
              "      action: 'starting',\n",
              "    }\n",
              "  };\n",
              "\n",
              "  cancel.remove();\n",
              "\n",
              "  // Disable the input element since further picks are not allowed.\n",
              "  inputElement.disabled = true;\n",
              "\n",
              "  if (!files) {\n",
              "    return {\n",
              "      response: {\n",
              "        action: 'complete',\n",
              "      }\n",
              "    };\n",
              "  }\n",
              "\n",
              "  for (const file of files) {\n",
              "    const li = document.createElement('li');\n",
              "    li.append(span(file.name, {fontWeight: 'bold'}));\n",
              "    li.append(span(\n",
              "        `(${file.type || 'n/a'}) - ${file.size} bytes, ` +\n",
              "        `last modified: ${\n",
              "            file.lastModifiedDate ? file.lastModifiedDate.toLocaleDateString() :\n",
              "                                    'n/a'} - `));\n",
              "    const percent = span('0% done');\n",
              "    li.appendChild(percent);\n",
              "\n",
              "    outputElement.appendChild(li);\n",
              "\n",
              "    const fileDataPromise = new Promise((resolve) => {\n",
              "      const reader = new FileReader();\n",
              "      reader.onload = (e) => {\n",
              "        resolve(e.target.result);\n",
              "      };\n",
              "      reader.readAsArrayBuffer(file);\n",
              "    });\n",
              "    // Wait for the data to be ready.\n",
              "    let fileData = yield {\n",
              "      promise: fileDataPromise,\n",
              "      response: {\n",
              "        action: 'continue',\n",
              "      }\n",
              "    };\n",
              "\n",
              "    // Use a chunked sending to avoid message size limits. See b/62115660.\n",
              "    let position = 0;\n",
              "    do {\n",
              "      const length = Math.min(fileData.byteLength - position, MAX_PAYLOAD_SIZE);\n",
              "      const chunk = new Uint8Array(fileData, position, length);\n",
              "      position += length;\n",
              "\n",
              "      const base64 = btoa(String.fromCharCode.apply(null, chunk));\n",
              "      yield {\n",
              "        response: {\n",
              "          action: 'append',\n",
              "          file: file.name,\n",
              "          data: base64,\n",
              "        },\n",
              "      };\n",
              "\n",
              "      let percentDone = fileData.byteLength === 0 ?\n",
              "          100 :\n",
              "          Math.round((position / fileData.byteLength) * 100);\n",
              "      percent.textContent = `${percentDone}% done`;\n",
              "\n",
              "    } while (position < fileData.byteLength);\n",
              "  }\n",
              "\n",
              "  // All done.\n",
              "  yield {\n",
              "    response: {\n",
              "      action: 'complete',\n",
              "    }\n",
              "  };\n",
              "}\n",
              "\n",
              "scope.google = scope.google || {};\n",
              "scope.google.colab = scope.google.colab || {};\n",
              "scope.google.colab._files = {\n",
              "  _uploadFiles,\n",
              "  _uploadFilesContinue,\n",
              "};\n",
              "})(self);\n",
              "</script> "
            ]
          },
          "metadata": {}
        },
        {
          "output_type": "stream",
          "name": "stdout",
          "text": [
            "Saving HR_POLICY_XYZ.pdf to HR_POLICY_XYZ.pdf\n",
            "\n",
            "✅ Document uploaded and extracted successfully!\n",
            "\n"
          ]
        }
      ]
    },
    {
      "cell_type": "markdown",
      "source": [
        "# **Summarize the Document**"
      ],
      "metadata": {
        "id": "KDuF8SpWsOfz"
      }
    },
    {
      "cell_type": "code",
      "source": [
        "print(\"Generating summary... please wait.\\n\")\n",
        "chunk = document_text[:3000] if len(document_text) > 3000 else document_text\n",
        "summary = summarizer(chunk, max_length=150, min_length=50, do_sample=False)\n",
        "print(\"📄 Summary:\\n\")\n",
        "print(summary[0]['summary_text'])"
      ],
      "metadata": {
        "id": "3FTskagasAGu",
        "colab": {
          "base_uri": "https://localhost:8080/"
        },
        "outputId": "e9092cce-de10-4360-a97f-949e65470f4f"
      },
      "execution_count": 43,
      "outputs": [
        {
          "output_type": "stream",
          "name": "stdout",
          "text": [
            "Generating summary... please wait.\n",
            "\n",
            "📄 Summary:\n",
            "\n",
            "This document outlines the key policies, procedures, and benefits for all Company XYZ employees. It is your responsibility to read and understand this manual. Policies are subject tochange, and updates will be communicated by the HR department. For any questions, please contact your manager or the Human Resources team.\n"
          ]
        }
      ]
    },
    {
      "cell_type": "markdown",
      "source": [
        "# **Keyword Extraction**"
      ],
      "metadata": {
        "id": "cJAPh6gasiAx"
      }
    },
    {
      "cell_type": "code",
      "source": [
        "def extract_keywords(text, num_keywords=10):\n",
        "    tokens = word_tokenize(text.lower())\n",
        "    tokens = [word for word in tokens if word.isalnum()]\n",
        "    stop_words = set(stopwords.words('english'))\n",
        "    filtered = [w for w in tokens if w not in stop_words and w not in string.punctuation]\n",
        "    freq = {}\n",
        "    for word in filtered:\n",
        "        freq[word] = freq.get(word, 0) + 1\n",
        "    sorted_words = sorted(freq.items(), key=lambda x: x[1], reverse=True)\n",
        "    return [word for word, count in sorted_words[:num_keywords]]\n",
        "\n",
        "keywords = extract_keywords(document_text)\n",
        "print(\"\\n🔑 Keywords:\", \", \".join(keywords))"
      ],
      "metadata": {
        "colab": {
          "base_uri": "https://localhost:8080/"
        },
        "id": "3zjoibt_Q5Qt",
        "outputId": "d728a0c4-5573-40f8-c280-029c858c1505"
      },
      "execution_count": 44,
      "outputs": [
        {
          "output_type": "stream",
          "name": "stdout",
          "text": [
            "\n",
            "🔑 Keywords: 20, page, section, employees, company, may, policy, must, leave, employee\n"
          ]
        }
      ]
    },
    {
      "cell_type": "markdown",
      "source": [
        "# **Simple Chatbot Loop (Document QA)**"
      ],
      "metadata": {
        "id": "9qVndZSQzphR"
      }
    },
    {
      "cell_type": "code",
      "source": [
        "import random\n",
        "\n",
        "user_name = input(\"Enter your name 😊 :\")\n",
        "\n",
        "emojis = [\"🙂\", \"😊\", \"👍\", \"🙌\", \"💡\", \"🤓\", \"✨\", \"😄\", \"🎯\", \"📝\"]\n",
        "thank_emojis = [\"🙏\", \"💖\", \"😊\", \"🌟\", \"😄\"]\n",
        "\n",
        "def chatbot(query):\n",
        "    greetings = [\"hello\", \"hi\", \"hey\", \"good morning\", \"good afternoon\", \"good evening\"]\n",
        "    greeting_responses = [\"Hello\", \"Hi there\", \"Hey\", \"Greetings\"]\n",
        "\n",
        "    thanks = [\"thanks\", \"thank you\", \"good job\", \"well done\", \"appreciate\"]\n",
        "    thanks_responses = [\n",
        "        f\"You're welcome {user_name}! {random.choice(thank_emojis)}\",\n",
        "        f\"My pleasure, {user_name}! {random.choice(thank_emojis)}\",\n",
        "        f\"Happy to help you {user_name}! {random.choice(thank_emojis)}\"\n",
        "    ]\n",
        "\n",
        "    if any(word in query.lower() for word in greetings):\n",
        "        return f\"{random.choice(greeting_responses)} {user_name}! 👋 How can I help you today? {random.choice(emojis)}\"\n",
        "\n",
        "    if any(word in query.lower() for word in thanks):\n",
        "        return random.choice(thanks_responses)\n",
        "\n",
        "    if sentence_embeddings.nelement() == 0:\n",
        "        return f\"Sorry, I couldn't process the document properly. No content found. 😔\"\n",
        "\n",
        "    query_embedding = embedder.encode(query, convert_to_tensor=True)\n",
        "    cos_scores = util.pytorch_cos_sim(query_embedding, sentence_embeddings)[0]\n",
        "\n",
        "    top_result = torch.topk(cos_scores, k=1)\n",
        "    best_sentences = [sentences[idx].strip() for idx in top_result[1]]\n",
        "    answer = \" \".join(best_sentences)\n",
        "\n",
        "    return f\"{answer} {random.choice(emojis)}\"\n",
        "\n",
        "while True:\n",
        "  q = input(f\"\\n{user_name}: \")\n",
        "  if q.lower() in [\"exit\", \"quit\", \"bye bot\", \"bye\"]:\n",
        "        print(f\"Chatbot: Goodbye {user_name}! 👋 Have a great day! {random.choice(emojis)}\")\n",
        "        break\n",
        "  ans = chatbot(q)\n",
        "  print(f\"Chatbot: {ans}\")\n"
      ],
      "metadata": {
        "colab": {
          "base_uri": "https://localhost:8080/"
        },
        "id": "znY_SQCaXq6j",
        "outputId": "ca251d7e-064b-44c5-9a4f-e4424dae4b0c"
      },
      "execution_count": 60,
      "outputs": [
        {
          "output_type": "stream",
          "name": "stdout",
          "text": [
            "Enter your name 😊 :Krithick \n",
            "\n",
            "Krithick : Hello Bot\n",
            "Chatbot: Hi there Krithick ! 👋 How can I help you today? 😊\n",
            "\n",
            "Krithick : What is the dress code?\n",
            "Chatbot: The standard office dress code is business casual. 😊\n",
            "\n",
            "Krithick : What is leave policy?\n",
            "Chatbot: We also offer a parental leave policy, which includes 12\n",
            "weeks of paid leave for the primary caregiver. 🎯\n",
            "\n",
            "Krithick : How many vacation days do i get?\n",
            "Chatbot: All full-time employees are\n",
            "entitled to 20 paid vacation days per year, which are accrued on a monthly basis. 🤓\n",
            "\n",
            "Krithick : When will i get paid?\n",
            "Chatbot: All employees are paid bi-weekly on\n",
            "Fridays. ✨\n",
            "\n",
            "Krithick : Thanks for the Information ! \n",
            "Chatbot: Happy to help you Krithick ! 💖\n",
            "\n",
            "Krithick : Bye\n",
            "Chatbot: Goodbye Krithick ! 👋 Have a great day! 😊\n"
          ]
        }
      ]
    }
  ]
}